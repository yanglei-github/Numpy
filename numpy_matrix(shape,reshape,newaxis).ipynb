{
 "cells": [
  {
   "cell_type": "code",
   "execution_count": 22,
   "metadata": {},
   "outputs": [],
   "source": [
    "import numpy as np"
   ]
  },
  {
   "cell_type": "code",
   "execution_count": 26,
   "metadata": {},
   "outputs": [
    {
     "name": "stdout",
     "output_type": "stream",
     "text": [
      "[[1 2 3]]\n",
      "(1, 3)\n"
     ]
    }
   ],
   "source": [
    "a = np.array([[1,2,3]])\n",
    "print(a)\n",
    "print(a.shape)"
   ]
  },
  {
   "cell_type": "code",
   "execution_count": 25,
   "metadata": {},
   "outputs": [
    {
     "name": "stdout",
     "output_type": "stream",
     "text": [
      "[0.41605511 0.27614368 0.43673446 0.47142782 0.44322443]\n",
      "(5,)\n"
     ]
    }
   ],
   "source": [
    "b = np.random.rand(5)\n",
    "print(b)\n",
    "print(b.shape)"
   ]
  },
  {
   "cell_type": "code",
   "execution_count": 27,
   "metadata": {},
   "outputs": [
    {
     "name": "stdout",
     "output_type": "stream",
     "text": [
      "[[0.35477433 0.28379475 0.83714476 0.71693782 0.62720109]]\n",
      "(1, 5)\n"
     ]
    }
   ],
   "source": [
    "c = np.random.rand(1,5)\n",
    "print(c)\n",
    "print(c.shape)"
   ]
  },
  {
   "cell_type": "code",
   "execution_count": 31,
   "metadata": {},
   "outputs": [
    {
     "name": "stdout",
     "output_type": "stream",
     "text": [
      "[[0.41605511]\n",
      " [0.27614368]\n",
      " [0.43673446]\n",
      " [0.47142782]\n",
      " [0.44322443]]\n",
      "(5, 1)\n"
     ]
    }
   ],
   "source": [
    "#b.shape = 5,   -->  1,5\n",
    "#d = b[np.newaxis,:]\n",
    "#d = b[np.newaxis,:]\n",
    "#b.shape = 5,   -->  5,1\n",
    "d = b[:,np.newaxis]\n",
    "print(d)\n",
    "print(d.shape)"
   ]
  },
  {
   "cell_type": "code",
   "execution_count": 34,
   "metadata": {},
   "outputs": [
    {
     "name": "stdout",
     "output_type": "stream",
     "text": [
      "[[0.83641181]\n",
      " [0.34397506]\n",
      " [0.72776409]\n",
      " [0.93690321]\n",
      " [0.67516666]]\n",
      "(5, 1)\n"
     ]
    }
   ],
   "source": [
    "b = np.random.rand(5).reshape((5,1))\n",
    "print(b)\n",
    "print(b.shape)"
   ]
  },
  {
   "cell_type": "code",
   "execution_count": null,
   "metadata": {},
   "outputs": [],
   "source": []
  }
 ],
 "metadata": {
  "kernelspec": {
   "display_name": "Python 3",
   "language": "python",
   "name": "python3"
  },
  "language_info": {
   "codemirror_mode": {
    "name": "ipython",
    "version": 3
   },
   "file_extension": ".py",
   "mimetype": "text/x-python",
   "name": "python",
   "nbconvert_exporter": "python",
   "pygments_lexer": "ipython3",
   "version": "3.7.3"
  }
 },
 "nbformat": 4,
 "nbformat_minor": 2
}
